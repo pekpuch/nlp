{
 "cells": [
  {
   "cell_type": "code",
   "execution_count": 63,
   "id": "9355d135-d154-4839-b16b-5e6bfd8210f8",
   "metadata": {},
   "outputs": [],
   "source": [
    "import pandas as pd\n",
    "import re\n",
    "from sklearn.feature_extraction.text import TfidfVectorizer\n",
    "from sklearn.decomposition import PCA\n",
    "from sklearn.preprocessing import StandardScaler\n",
    "from nltk.corpus import stopwords\n",
    "from nltk.stem import WordNetLemmatizer\n",
    "from nltk.tokenize import word_tokenize\n",
    "import nltk\n",
    "import matplotlib.pyplot as plt\n",
    "from sklearn.naive_bayes import MultinomialNB\n",
    "from sklearn.feature_extraction.text import CountVectorizer\n",
    "from sklearn.metrics import accuracy_score, classification_report\n",
    "import pymorphy2\n",
    "from pymystem3 import Mystem\n"
   ]
  },
  {
   "cell_type": "code",
   "execution_count": 64,
   "id": "b0c6de64-a594-4916-a44b-c70dda71926f",
   "metadata": {},
   "outputs": [],
   "source": [
    "train_df = pd.read_csv('dataset/train/train.tsv', sep='\\t', header=None, names=['index_id', 'category', 'text'])\n",
    "val_df = pd.read_csv('dataset/val/val.tsv', sep='\\t', header=None, names=['index_id', 'category', 'text'])\n",
    "test_df = pd.read_csv('dataset/test/test.tsv', sep='\\t', header=None, names=['index_id', 'category', 'text'])"
   ]
  },
  {
   "cell_type": "code",
   "execution_count": 65,
   "id": "dc15559a-bc00-4363-a8c3-156942d35543",
   "metadata": {},
   "outputs": [
    {
     "name": "stderr",
     "output_type": "stream",
     "text": [
      "[nltk_data] Downloading package punkt to\n",
      "[nltk_data]     C:\\Users\\atlak\\AppData\\Roaming\\nltk_data...\n",
      "[nltk_data]   Package punkt is already up-to-date!\n",
      "[nltk_data] Downloading package stopwords to\n",
      "[nltk_data]     C:\\Users\\atlak\\AppData\\Roaming\\nltk_data...\n",
      "[nltk_data]   Package stopwords is already up-to-date!\n",
      "[nltk_data] Downloading package wordnet to\n",
      "[nltk_data]     C:\\Users\\atlak\\AppData\\Roaming\\nltk_data...\n",
      "[nltk_data]   Package wordnet is already up-to-date!\n"
     ]
    },
    {
     "data": {
      "text/plain": [
       "True"
      ]
     },
     "execution_count": 65,
     "metadata": {},
     "output_type": "execute_result"
    }
   ],
   "source": [
    "nltk.download('punkt')\n",
    "nltk.download('stopwords')\n",
    "nltk.download('wordnet')"
   ]
  },
  {
   "cell_type": "code",
   "execution_count": 126,
   "id": "4744f072-0d51-479d-95e5-f4b65a475e42",
   "metadata": {},
   "outputs": [
    {
     "name": "stdout",
     "output_type": "stream",
     "text": [
      "Requirement already satisfied: pymorphy2 in c:\\users\\atlak\\anaconda3\\lib\\site-packages (0.9.1)\n",
      "Requirement already satisfied: dawg-python>=0.7.1 in c:\\users\\atlak\\anaconda3\\lib\\site-packages (from pymorphy2) (0.7.2)\n",
      "Requirement already satisfied: pymorphy2-dicts-ru<3.0,>=2.4 in c:\\users\\atlak\\anaconda3\\lib\\site-packages (from pymorphy2) (2.4.417127.4579844)\n",
      "Requirement already satisfied: docopt>=0.6 in c:\\users\\atlak\\anaconda3\\lib\\site-packages (from pymorphy2) (0.6.2)\n"
     ]
    },
    {
     "name": "stderr",
     "output_type": "stream",
     "text": [
      "\n",
      "[notice] A new release of pip is available: 24.0 -> 24.2\n",
      "[notice] To update, run: python.exe -m pip install --upgrade pip\n"
     ]
    }
   ],
   "source": [
    "!conda install python=3.8\n"
   ]
  },
  {
   "cell_type": "code",
   "execution_count": 125,
   "id": "769f9c4d-b92c-4bbb-be10-f82cabd72f29",
   "metadata": {},
   "outputs": [
    {
     "ename": "AttributeError",
     "evalue": "module 'inspect' has no attribute 'getargspec'",
     "output_type": "error",
     "traceback": [
      "\u001b[1;31m---------------------------------------------------------------------------\u001b[0m",
      "\u001b[1;31mAttributeError\u001b[0m                            Traceback (most recent call last)",
      "Cell \u001b[1;32mIn[125], line 1\u001b[0m\n\u001b[1;32m----> 1\u001b[0m morph \u001b[38;5;241m=\u001b[39m pymorphy2\u001b[38;5;241m.\u001b[39mMorphAnalyzer()\n\u001b[0;32m      3\u001b[0m stop_words \u001b[38;5;241m=\u001b[39m \u001b[38;5;28mset\u001b[39m(stopwords\u001b[38;5;241m.\u001b[39mwords(\u001b[38;5;124m'\u001b[39m\u001b[38;5;124mrussian\u001b[39m\u001b[38;5;124m'\u001b[39m))\n\u001b[0;32m      5\u001b[0m \u001b[38;5;28;01mdef\u001b[39;00m \u001b[38;5;21mpreprocess_text\u001b[39m(text):\n",
      "File \u001b[1;32m~\\anaconda3\\Lib\\site-packages\\pymorphy2\\analyzer.py:224\u001b[0m, in \u001b[0;36mMorphAnalyzer.__init__\u001b[1;34m(self, path, lang, result_type, units, probability_estimator_cls, char_substitutes)\u001b[0m\n\u001b[0;32m    222\u001b[0m \u001b[38;5;28mself\u001b[39m\u001b[38;5;241m.\u001b[39m_result_type_orig \u001b[38;5;241m=\u001b[39m result_type\n\u001b[0;32m    223\u001b[0m \u001b[38;5;28mself\u001b[39m\u001b[38;5;241m.\u001b[39m_init_char_substitutes(char_substitutes)\n\u001b[1;32m--> 224\u001b[0m \u001b[38;5;28mself\u001b[39m\u001b[38;5;241m.\u001b[39m_init_units(units)\n",
      "File \u001b[1;32m~\\anaconda3\\Lib\\site-packages\\pymorphy2\\analyzer.py:235\u001b[0m, in \u001b[0;36mMorphAnalyzer._init_units\u001b[1;34m(self, units_unbound)\u001b[0m\n\u001b[0;32m    233\u001b[0m \u001b[38;5;28;01mif\u001b[39;00m \u001b[38;5;28misinstance\u001b[39m(item, (\u001b[38;5;28mlist\u001b[39m, \u001b[38;5;28mtuple\u001b[39m)):\n\u001b[0;32m    234\u001b[0m     \u001b[38;5;28;01mfor\u001b[39;00m unit \u001b[38;5;129;01min\u001b[39;00m item[:\u001b[38;5;241m-\u001b[39m\u001b[38;5;241m1\u001b[39m]:\n\u001b[1;32m--> 235\u001b[0m         \u001b[38;5;28mself\u001b[39m\u001b[38;5;241m.\u001b[39m_units\u001b[38;5;241m.\u001b[39mappend((\u001b[38;5;28mself\u001b[39m\u001b[38;5;241m.\u001b[39m_bound_unit(unit), \u001b[38;5;28;01mFalse\u001b[39;00m))\n\u001b[0;32m    236\u001b[0m     \u001b[38;5;28mself\u001b[39m\u001b[38;5;241m.\u001b[39m_units\u001b[38;5;241m.\u001b[39mappend((\u001b[38;5;28mself\u001b[39m\u001b[38;5;241m.\u001b[39m_bound_unit(item[\u001b[38;5;241m-\u001b[39m\u001b[38;5;241m1\u001b[39m]), \u001b[38;5;28;01mTrue\u001b[39;00m))\n\u001b[0;32m    237\u001b[0m \u001b[38;5;28;01melse\u001b[39;00m:\n",
      "File \u001b[1;32m~\\anaconda3\\Lib\\site-packages\\pymorphy2\\analyzer.py:246\u001b[0m, in \u001b[0;36mMorphAnalyzer._bound_unit\u001b[1;34m(self, unit)\u001b[0m\n\u001b[0;32m    245\u001b[0m \u001b[38;5;28;01mdef\u001b[39;00m \u001b[38;5;21m_bound_unit\u001b[39m(\u001b[38;5;28mself\u001b[39m, unit):\n\u001b[1;32m--> 246\u001b[0m     unit \u001b[38;5;241m=\u001b[39m unit\u001b[38;5;241m.\u001b[39mclone()\n\u001b[0;32m    247\u001b[0m     unit\u001b[38;5;241m.\u001b[39minit(\u001b[38;5;28mself\u001b[39m)\n\u001b[0;32m    248\u001b[0m     \u001b[38;5;28;01mreturn\u001b[39;00m unit\n",
      "File \u001b[1;32m~\\anaconda3\\Lib\\site-packages\\pymorphy2\\units\\base.py:35\u001b[0m, in \u001b[0;36mBaseAnalyzerUnit.clone\u001b[1;34m(self)\u001b[0m\n\u001b[0;32m     34\u001b[0m \u001b[38;5;28;01mdef\u001b[39;00m \u001b[38;5;21mclone\u001b[39m(\u001b[38;5;28mself\u001b[39m):\n\u001b[1;32m---> 35\u001b[0m     \u001b[38;5;28;01mreturn\u001b[39;00m \u001b[38;5;28mself\u001b[39m\u001b[38;5;241m.\u001b[39m\u001b[38;5;18m__class__\u001b[39m(\u001b[38;5;241m*\u001b[39m\u001b[38;5;241m*\u001b[39m\u001b[38;5;28mself\u001b[39m\u001b[38;5;241m.\u001b[39m_get_params())\n",
      "File \u001b[1;32m~\\anaconda3\\Lib\\site-packages\\pymorphy2\\units\\base.py:76\u001b[0m, in \u001b[0;36mBaseAnalyzerUnit._get_params\u001b[1;34m(self)\u001b[0m\n\u001b[0;32m     73\u001b[0m \u001b[38;5;28;01mdef\u001b[39;00m \u001b[38;5;21m_get_params\u001b[39m(\u001b[38;5;28mself\u001b[39m):\n\u001b[0;32m     74\u001b[0m \u001b[38;5;250m    \u001b[39m\u001b[38;5;124;03m\"\"\" Return a dict with the parameters for this analyzer unit. \"\"\"\u001b[39;00m\n\u001b[0;32m     75\u001b[0m     \u001b[38;5;28;01mreturn\u001b[39;00m \u001b[38;5;28mdict\u001b[39m(\n\u001b[1;32m---> 76\u001b[0m         (key, \u001b[38;5;28mgetattr\u001b[39m(\u001b[38;5;28mself\u001b[39m, key, \u001b[38;5;28;01mNone\u001b[39;00m)) \u001b[38;5;28;01mfor\u001b[39;00m key \u001b[38;5;129;01min\u001b[39;00m \u001b[38;5;28mself\u001b[39m\u001b[38;5;241m.\u001b[39m_get_param_names()\n\u001b[0;32m     77\u001b[0m     )\n",
      "File \u001b[1;32m~\\anaconda3\\Lib\\site-packages\\pymorphy2\\units\\base.py:70\u001b[0m, in \u001b[0;36mBaseAnalyzerUnit._get_param_names\u001b[1;34m(cls)\u001b[0m\n\u001b[0;32m     68\u001b[0m \u001b[38;5;28;01mif\u001b[39;00m \u001b[38;5;28mcls\u001b[39m\u001b[38;5;241m.\u001b[39m\u001b[38;5;21m__init__\u001b[39m \u001b[38;5;129;01mis\u001b[39;00m \u001b[38;5;28mobject\u001b[39m\u001b[38;5;241m.\u001b[39m\u001b[38;5;21m__init__\u001b[39m:\n\u001b[0;32m     69\u001b[0m     \u001b[38;5;28;01mreturn\u001b[39;00m []\n\u001b[1;32m---> 70\u001b[0m args, varargs, kw, default \u001b[38;5;241m=\u001b[39m inspect\u001b[38;5;241m.\u001b[39mgetargspec(\u001b[38;5;28mcls\u001b[39m\u001b[38;5;241m.\u001b[39m\u001b[38;5;21m__init__\u001b[39m)\n\u001b[0;32m     71\u001b[0m \u001b[38;5;28;01mreturn\u001b[39;00m \u001b[38;5;28msorted\u001b[39m(args[\u001b[38;5;241m1\u001b[39m:])\n",
      "\u001b[1;31mAttributeError\u001b[0m: module 'inspect' has no attribute 'getargspec'"
     ]
    }
   ],
   "source": [
    "morph = pymorphy2.MorphAnalyzer()\n",
    "\n",
    "stop_words = set(stopwords.words('russian'))\n",
    "\n",
    "def preprocess_text(text):\n",
    "    text = text.lower()  # Приведение к нижнему регистру\n",
    "    text = re.sub(r'\\W', ' ', text)  # Удаление всех неалфавитных символов\n",
    "    words = text.split()  # Разбиение текста на слова\n",
    "    lemmatized_words = [morph.parse(word)[0].normal_form for word in words]\n",
    "    return ' '.join(lemmatized_words)"
   ]
  },
  {
   "cell_type": "code",
   "execution_count": 75,
   "id": "cf9ccab1-edf3-418d-8e60-77bf968e7b48",
   "metadata": {},
   "outputs": [],
   "source": [
    "train_df['clean_text'] = train_df['text'].apply(preprocess_text)"
   ]
  },
  {
   "cell_type": "code",
   "execution_count": 76,
   "id": "0c5d6432-faee-4473-9ee2-ef57196f3046",
   "metadata": {},
   "outputs": [
    {
     "data": {
      "text/plain": [
       "0      турция сторона окружать море запад эгейский се...\n",
       "1      начало война основное передвигаться поверхност...\n",
       "2      мера знание греческий язык ухудшаться запад ок...\n",
       "3      зима это красота шарм горный деревушка выпадат...\n",
       "4      отель останавливаться богатый известный челове...\n",
       "                             ...                        \n",
       "696    соединение передача данные телефон находиться ...\n",
       "697    высказывать мысль обучение социализация являть...\n",
       "698    некоторый круизный брошюра представлять берлин...\n",
       "699    28 летний алеша видаль переходить барс севилья...\n",
       "700    интерактивный дизайн предполагать элемент прое...\n",
       "Name: clean_text, Length: 701, dtype: object"
      ]
     },
     "execution_count": 76,
     "metadata": {},
     "output_type": "execute_result"
    }
   ],
   "source": [
    "train_df['clean_text']"
   ]
  },
  {
   "cell_type": "code",
   "execution_count": 77,
   "id": "4eb81e32-166d-4987-b927-330b4f925006",
   "metadata": {},
   "outputs": [],
   "source": [
    "#Рассчет TF-IDF\n",
    "tfidf_results = {}\n",
    "\n",
    "classes = train_df['category'].unique()  \n",
    "\n",
    "for cls in classes:\n",
    "    texts = train_df[train_df['category'] == cls]['clean_text']\n",
    "    \n",
    "    # Рассчет TF-IDF\n",
    "    tfidf = TfidfVectorizer()\n",
    "    X_tfidf = tfidf.fit_transform(texts).toarray()\n",
    "    \n",
    "    # Получаем слова \n",
    "    feature_names = tfidf.get_feature_names_out()\n",
    "    \n",
    "    tfidf_scores = X_tfidf.sum(axis=0)  # Суммируем TF-IDF \n",
    "    tfidf_results[cls] = {feature_names[i]: tfidf_scores[i] for i in range(len(feature_names))}\n"
   ]
  },
  {
   "cell_type": "code",
   "execution_count": 78,
   "id": "1269dfa8-ee4c-4896-ad94-cdf8f51af915",
   "metadata": {},
   "outputs": [
    {
     "name": "stdout",
     "output_type": "stream",
     "text": [
      "\n",
      "Класс: geography\n",
      "который: 2.2742049563463587\n",
      "остров: 2.219933362721209\n",
      "миля: 1.78335580184482\n",
      "это: 1.7090785862815396\n",
      "река: 1.68015110599152\n",
      "являться: 1.6301144985732543\n",
      "земля: 1.6252315739464829\n",
      "км: 1.4935763331438998\n",
      "океан: 1.384153060718875\n",
      "город: 1.1800463486968127\n",
      "\n",
      "Класс: science/technology\n",
      "который: 5.009148938940572\n",
      "это: 4.577148320562256\n",
      "мочь: 4.397550175375027\n",
      "состоять: 2.7949202592731766\n",
      "весь: 2.7228297572620717\n",
      "атом: 2.59996317966082\n",
      "ученый: 2.4915820652879006\n",
      "солнце: 2.3100626410594898\n",
      "интернет: 2.249781698049699\n",
      "человек: 2.223720617681346\n",
      "\n",
      "Класс: entertainment\n",
      "который: 2.326267927486146\n",
      "год: 1.4301778175840605\n",
      "это: 1.3638630868505013\n",
      "шоу: 1.2560271796960816\n",
      "хороший: 1.1469708162341847\n",
      "певец: 1.1322743924586511\n",
      "также: 1.1236727737551024\n",
      "большинство: 1.1097127124629658\n",
      "мочь: 1.0455862008958734\n",
      "человек: 0.9759127560114333\n",
      "\n",
      "Класс: politics\n",
      "год: 3.6917004637843447\n",
      "свой: 3.001912978470534\n",
      "который: 2.492123395184779\n",
      "правительство: 2.0885972698476913\n",
      "война: 2.0848903548383655\n",
      "становиться: 1.8029076934512704\n",
      "второй: 1.7484884235336293\n",
      "германия: 1.6785210035984026\n",
      "время: 1.6656186698644735\n",
      "выборы: 1.6081535348285088\n",
      "\n",
      "Класс: health\n",
      "случай: 2.04364634828158\n",
      "заболевание: 1.8951313693037701\n",
      "пострадать: 1.859900403742154\n",
      "это: 1.7949920985881063\n",
      "человек: 1.7815411403967938\n",
      "который: 1.7673480626824518\n",
      "болезнь: 1.5797062609093888\n",
      "медицинский: 1.3964208691389102\n",
      "мочь: 1.3889567837805443\n",
      "вирус: 1.2911983515299033\n",
      "\n",
      "Класс: travel\n",
      "мочь: 4.569894871663204\n",
      "место: 3.7995491768029845\n",
      "это: 3.3915670139940723\n",
      "который: 3.008705366841995\n",
      "часто: 2.57168460627366\n",
      "страна: 2.356551928867236\n",
      "являться: 2.2469613023862167\n",
      "путешественник: 2.2448352990839755\n",
      "путешествие: 2.2386717413395343\n",
      "поездка: 2.139766912778436\n",
      "\n",
      "Класс: sports\n",
      "год: 2.4666272377793663\n",
      "игра: 2.2540045362741123\n",
      "матч: 2.114667592943871\n",
      "это: 2.100578259265049\n",
      "олимпийский: 2.0616954507245953\n",
      "который: 1.8129366234708493\n",
      "команда: 1.6791947945277061\n",
      "спорт: 1.6220384561392471\n",
      "игрок: 1.6039920358279238\n",
      "также: 1.5267481796907272\n"
     ]
    }
   ],
   "source": [
    "for cls, scores in tfidf_results.items():\n",
    "    print(f\"\\nКласс: {cls}\")\n",
    "    sorted_scores = sorted(scores.items(), key=lambda x: x[1], reverse=True)\n",
    "    \n",
    "    for word, score in sorted_scores[:10]:  # Выводим топ-10 слов по TF-IDF\n",
    "        print(f\"{word}: {score}\")"
   ]
  },
  {
   "cell_type": "code",
   "execution_count": 89,
   "id": "6b654734-3e76-40a7-a82f-e8d9eec0b888",
   "metadata": {},
   "outputs": [],
   "source": [
    "tfidf = TfidfVectorizer()\n",
    "train_X_tfidf = tfidf.fit_transform(train_df['clean_text']) # получаем таблицу, где столбцы - слова, строки - номер текста, значение - вес\n",
    "\n",
    "scaler = StandardScaler()\n",
    "train_X_scaled = scaler.fit_transform(train_X_tfidf.toarray()) # масштабируем, стандартизируем"
   ]
  },
  {
   "cell_type": "code",
   "execution_count": 80,
   "id": "bb0290af-0060-4e2b-b73d-8adf9afb9e8a",
   "metadata": {},
   "outputs": [],
   "source": [
    "pca = PCA(n_components=2)  # Понижаем размерность до 2D\n",
    "train_X_pca = pca.fit_transform(train_X_scaled)"
   ]
  },
  {
   "cell_type": "code",
   "execution_count": 81,
   "id": "22cc8d44-2064-4464-99eb-1c8fc6d97bcc",
   "metadata": {},
   "outputs": [],
   "source": [
    "df_pca = pd.DataFrame(data=train_X_pca, columns=['Principal Component 1', 'Principal Component 2'])\n",
    "df_pca['id'] = train_df['index_id']"
   ]
  },
  {
   "cell_type": "code",
   "execution_count": 82,
   "id": "8616f0bf-a7b4-41fe-9e5d-bda1a57172cd",
   "metadata": {},
   "outputs": [
    {
     "data": {
      "text/html": [
       "<div>\n",
       "<style scoped>\n",
       "    .dataframe tbody tr th:only-of-type {\n",
       "        vertical-align: middle;\n",
       "    }\n",
       "\n",
       "    .dataframe tbody tr th {\n",
       "        vertical-align: top;\n",
       "    }\n",
       "\n",
       "    .dataframe thead th {\n",
       "        text-align: right;\n",
       "    }\n",
       "</style>\n",
       "<table border=\"1\" class=\"dataframe\">\n",
       "  <thead>\n",
       "    <tr style=\"text-align: right;\">\n",
       "      <th></th>\n",
       "      <th>Principal Component 1</th>\n",
       "      <th>Principal Component 2</th>\n",
       "      <th>id</th>\n",
       "    </tr>\n",
       "  </thead>\n",
       "  <tbody>\n",
       "    <tr>\n",
       "      <th>0</th>\n",
       "      <td>-0.302450</td>\n",
       "      <td>-0.365926</td>\n",
       "      <td>431</td>\n",
       "    </tr>\n",
       "    <tr>\n",
       "      <th>1</th>\n",
       "      <td>-0.265016</td>\n",
       "      <td>-0.472123</td>\n",
       "      <td>403</td>\n",
       "    </tr>\n",
       "    <tr>\n",
       "      <th>2</th>\n",
       "      <td>-0.301391</td>\n",
       "      <td>-0.242442</td>\n",
       "      <td>1592</td>\n",
       "    </tr>\n",
       "    <tr>\n",
       "      <th>3</th>\n",
       "      <td>0.252983</td>\n",
       "      <td>-0.490063</td>\n",
       "      <td>993</td>\n",
       "    </tr>\n",
       "    <tr>\n",
       "      <th>4</th>\n",
       "      <td>-0.293931</td>\n",
       "      <td>-0.204271</td>\n",
       "      <td>755</td>\n",
       "    </tr>\n",
       "    <tr>\n",
       "      <th>...</th>\n",
       "      <td>...</td>\n",
       "      <td>...</td>\n",
       "      <td>...</td>\n",
       "    </tr>\n",
       "    <tr>\n",
       "      <th>696</th>\n",
       "      <td>-0.313418</td>\n",
       "      <td>-0.157560</td>\n",
       "      <td>920</td>\n",
       "    </tr>\n",
       "    <tr>\n",
       "      <th>697</th>\n",
       "      <td>-0.652842</td>\n",
       "      <td>-1.783681</td>\n",
       "      <td>1516</td>\n",
       "    </tr>\n",
       "    <tr>\n",
       "      <th>698</th>\n",
       "      <td>-0.374817</td>\n",
       "      <td>-0.525721</td>\n",
       "      <td>1922</td>\n",
       "    </tr>\n",
       "    <tr>\n",
       "      <th>699</th>\n",
       "      <td>-0.228612</td>\n",
       "      <td>-0.170963</td>\n",
       "      <td>5</td>\n",
       "    </tr>\n",
       "    <tr>\n",
       "      <th>700</th>\n",
       "      <td>-0.105696</td>\n",
       "      <td>-0.537874</td>\n",
       "      <td>453</td>\n",
       "    </tr>\n",
       "  </tbody>\n",
       "</table>\n",
       "<p>701 rows × 3 columns</p>\n",
       "</div>"
      ],
      "text/plain": [
       "     Principal Component 1  Principal Component 2    id\n",
       "0                -0.302450              -0.365926   431\n",
       "1                -0.265016              -0.472123   403\n",
       "2                -0.301391              -0.242442  1592\n",
       "3                 0.252983              -0.490063   993\n",
       "4                -0.293931              -0.204271   755\n",
       "..                     ...                    ...   ...\n",
       "696              -0.313418              -0.157560   920\n",
       "697              -0.652842              -1.783681  1516\n",
       "698              -0.374817              -0.525721  1922\n",
       "699              -0.228612              -0.170963     5\n",
       "700              -0.105696              -0.537874   453\n",
       "\n",
       "[701 rows x 3 columns]"
      ]
     },
     "execution_count": 82,
     "metadata": {},
     "output_type": "execute_result"
    }
   ],
   "source": [
    "df_pca"
   ]
  },
  {
   "cell_type": "code",
   "execution_count": 83,
   "id": "d012be2f-2c87-4017-bc9d-323abcf57fe7",
   "metadata": {},
   "outputs": [
    {
     "data": {
      "image/png": "[encoded data removed]",
      "text/plain": [
       "<Figure size 800x600 with 1 Axes>"
      ]
     },
     "metadata": {},
     "output_type": "display_data"
    }
   ],
   "source": [
    "plt.figure(figsize=(8, 6))\n",
    "plt.scatter(df_pca['Principal Component 1'], df_pca['Principal Component 2'], alpha=0.7)\n",
    "for i, txt in enumerate(df_pca['id']):\n",
    "    plt.annotate(txt, (df_pca['Principal Component 1'][i], df_pca['Principal Component 2'][i]))\n",
    "\n",
    "plt.title('PCA of TF-IDF Features')\n",
    "plt.xlabel('Principal Component 1')\n",
    "plt.ylabel('Principal Component 2')\n",
    "plt.grid()\n",
    "plt.show()\n"
   ]
  },
  {
   "cell_type": "code",
   "execution_count": 116,
   "id": "6be72406-6a17-44d4-89a4-77a931526a4d",
   "metadata": {},
   "outputs": [],
   "source": [
    "vectorizer = CountVectorizer()\n",
    "tfidf = TfidfVectorizer()\n",
    "labels = open('dataset/data_rus_Cyrl_labels.txt').read().splitlines()"
   ]
  },
  {
   "cell_type": "code",
   "execution_count": 117,
   "id": "d4fa009b-50bb-4c35-acae-1da9720f929a",
   "metadata": {},
   "outputs": [
    {
     "name": "stdout",
     "output_type": "stream",
     "text": [
      "                    precision    recall  f1-score   support\n",
      "\n",
      "science/technology       0.38      0.16      0.22        19\n",
      "            travel       0.62      0.29      0.40        17\n",
      "          politics       0.75      0.41      0.53        22\n",
      "            sports       0.60      0.40      0.48        30\n",
      "            health       0.42      0.75      0.54        51\n",
      "     entertainment       0.73      0.44      0.55        25\n",
      "         geography       0.43      0.55      0.48        40\n",
      "\n",
      "          accuracy                           0.49       204\n",
      "         macro avg       0.56      0.43      0.46       204\n",
      "      weighted avg       0.54      0.49      0.48       204\n",
      "\n"
     ]
    }
   ],
   "source": [
    "'''\n",
    "MultinomialNB\n",
    "Mystem, лемматизация\n",
    "'''\n",
    "model = MultinomialNB()\n",
    "\n",
    "X_train_bow = vectorizer.fit_transform(train_df['clean_text'])\n",
    "y_train = train_df['category']\n",
    "\n",
    "X_test_bow = vectorizer.transform(test_df['text'])\n",
    "y_test = test_df['category']\n",
    "\n",
    "model.fit(X_train_bow, y_train)\n",
    "y_pred = model.predict(X_test_bow)\n",
    "print(classification_report(y_test, y_pred, target_names=labels)) "
   ]
  },
  {
   "cell_type": "code",
   "execution_count": 118,
   "id": "43373448-cf84-4134-8878-633ac85db700",
   "metadata": {},
   "outputs": [
    {
     "name": "stdout",
     "output_type": "stream",
     "text": [
      "                    precision    recall  f1-score   support\n",
      "\n",
      "science/technology       0.75      0.16      0.26        19\n",
      "            travel       0.80      0.24      0.36        17\n",
      "          politics       0.75      0.14      0.23        22\n",
      "            sports       0.68      0.57      0.62        30\n",
      "            health       0.49      0.86      0.63        51\n",
      "     entertainment       0.69      0.44      0.54        25\n",
      "         geography       0.49      0.75      0.59        40\n",
      "\n",
      "          accuracy                           0.55       204\n",
      "         macro avg       0.66      0.45      0.46       204\n",
      "      weighted avg       0.62      0.55      0.51       204\n",
      "\n"
     ]
    }
   ],
   "source": [
    "'''\n",
    "MultinomialNB\n",
    "Датасет без обработки\n",
    "'''\n",
    "\n",
    "model = MultinomialNB()\n",
    "\n",
    "X_train_bow = vectorizer.fit_transform(train_df['text'])\n",
    "y_train = train_df['category']\n",
    "\n",
    "X_test_bow = vectorizer.transform(test_df['text'])\n",
    "y_test = test_df['category']\n",
    "\n",
    "model.fit(X_train_bow, y_train)\n",
    "y_pred = model.predict(X_test_bow)\n",
    "print(classification_report(y_test, y_pred, target_names=labels)) "
   ]
  },
  {
   "cell_type": "code",
   "execution_count": 122,
   "id": "2330ea2e-e61a-48f6-9920-9b4034dc1eb0",
   "metadata": {},
   "outputs": [
    {
     "name": "stdout",
     "output_type": "stream",
     "text": [
      "                    precision    recall  f1-score   support\n",
      "\n",
      "science/technology       0.00      0.00      0.00        19\n",
      "            travel       0.00      0.00      0.00        17\n",
      "          politics       1.00      0.09      0.17        22\n",
      "            sports       0.71      0.17      0.27        30\n",
      "            health       0.30      0.86      0.44        51\n",
      "     entertainment       1.00      0.20      0.33        25\n",
      "         geography       0.45      0.47      0.46        40\n",
      "\n",
      "          accuracy                           0.37       204\n",
      "         macro avg       0.49      0.26      0.24       204\n",
      "      weighted avg       0.50      0.37      0.30       204\n",
      "\n"
     ]
    },
    {
     "name": "stderr",
     "output_type": "stream",
     "text": [
      "C:\\Users\\atlak\\anaconda3\\Lib\\site-packages\\sklearn\\metrics\\_classification.py:1509: UndefinedMetricWarning: Precision is ill-defined and being set to 0.0 in labels with no predicted samples. Use `zero_division` parameter to control this behavior.\n",
      "  _warn_prf(average, modifier, f\"{metric.capitalize()} is\", len(result))\n",
      "C:\\Users\\atlak\\anaconda3\\Lib\\site-packages\\sklearn\\metrics\\_classification.py:1509: UndefinedMetricWarning: Precision is ill-defined and being set to 0.0 in labels with no predicted samples. Use `zero_division` parameter to control this behavior.\n",
      "  _warn_prf(average, modifier, f\"{metric.capitalize()} is\", len(result))\n",
      "C:\\Users\\atlak\\anaconda3\\Lib\\site-packages\\sklearn\\metrics\\_classification.py:1509: UndefinedMetricWarning: Precision is ill-defined and being set to 0.0 in labels with no predicted samples. Use `zero_division` parameter to control this behavior.\n",
      "  _warn_prf(average, modifier, f\"{metric.capitalize()} is\", len(result))\n"
     ]
    }
   ],
   "source": [
    "'''\n",
    "MultinomialNB\n",
    "tfidf\n",
    "Обработка\n",
    "'''\n",
    "\n",
    "model = MultinomialNB()\n",
    "\n",
    "X_train_tfidf = tfidf.fit_transform(train_df['clean_text'])\n",
    "y_train = train_df['category']\n",
    "\n",
    "X_test_tfidf = tfidf.transform(test_df['text'])\n",
    "y_test = test_df['category']\n",
    "\n",
    "model.fit(X_train_tfidf, y_train)\n",
    "y_pred = model.predict(X_test_tfidf)\n",
    "print(classification_report(y_test, y_pred, target_names=labels)) "
   ]
  },
  {
   "cell_type": "code",
   "execution_count": 124,
   "id": "30fe2d4f-8eaa-40e0-90d4-0d28174c72b7",
   "metadata": {},
   "outputs": [
    {
     "name": "stdout",
     "output_type": "stream",
     "text": [
      "                    precision    recall  f1-score   support\n",
      "\n",
      "science/technology       0.00      0.00      0.00        19\n",
      "            travel       0.00      0.00      0.00        17\n",
      "          politics       0.00      0.00      0.00        22\n",
      "            sports       1.00      0.20      0.33        30\n",
      "            health       0.30      0.94      0.45        51\n",
      "     entertainment       1.00      0.08      0.15        25\n",
      "         geography       0.47      0.42      0.45        40\n",
      "\n",
      "          accuracy                           0.36       204\n",
      "         macro avg       0.40      0.24      0.20       204\n",
      "      weighted avg       0.44      0.36      0.27       204\n",
      "\n"
     ]
    },
    {
     "name": "stderr",
     "output_type": "stream",
     "text": [
      "C:\\Users\\atlak\\anaconda3\\Lib\\site-packages\\sklearn\\metrics\\_classification.py:1509: UndefinedMetricWarning: Precision is ill-defined and being set to 0.0 in labels with no predicted samples. Use `zero_division` parameter to control this behavior.\n",
      "  _warn_prf(average, modifier, f\"{metric.capitalize()} is\", len(result))\n",
      "C:\\Users\\atlak\\anaconda3\\Lib\\site-packages\\sklearn\\metrics\\_classification.py:1509: UndefinedMetricWarning: Precision is ill-defined and being set to 0.0 in labels with no predicted samples. Use `zero_division` parameter to control this behavior.\n",
      "  _warn_prf(average, modifier, f\"{metric.capitalize()} is\", len(result))\n",
      "C:\\Users\\atlak\\anaconda3\\Lib\\site-packages\\sklearn\\metrics\\_classification.py:1509: UndefinedMetricWarning: Precision is ill-defined and being set to 0.0 in labels with no predicted samples. Use `zero_division` parameter to control this behavior.\n",
      "  _warn_prf(average, modifier, f\"{metric.capitalize()} is\", len(result))\n"
     ]
    }
   ],
   "source": [
    "'''\n",
    "MultinomialNB\n",
    "tfidf\n",
    "без обработки\n",
    "'''\n",
    "\n",
    "model = MultinomialNB()\n",
    "\n",
    "X_train_tfidf = tfidf.fit_transform(train_df['text'])\n",
    "y_train = train_df['category']\n",
    "\n",
    "X_test_tfidf = tfidf.transform(test_df['text'])\n",
    "y_test = test_df['category']\n",
    "\n",
    "model.fit(X_train_tfidf, y_train)\n",
    "y_pred = model.predict(X_test_tfidf)\n",
    "print(classification_report(y_test, y_pred, target_names=labels)) "
   ]
  },
  {
   "cell_type": "code",
   "execution_count": null,
   "id": "6030ddfb-ec0c-47b3-8254-e7f7c6192129",
   "metadata": {},
   "outputs": [],
   "source": []
  }
 ],
 "metadata": {
  "kernelspec": {
   "display_name": "Python 3 (ipykernel)",
   "language": "python",
   "name": "python3"
  },
  "language_info": {
   "codemirror_mode": {
    "name": "ipython",
    "version": 3
   },
   "file_extension": ".py",
   "mimetype": "text/x-python",
   "name": "python",
   "nbconvert_exporter": "python",
   "pygments_lexer": "ipython3",
   "version": "3.11.7"
  }
 },
 "nbformat": 4,
 "nbformat_minor": 5
}
